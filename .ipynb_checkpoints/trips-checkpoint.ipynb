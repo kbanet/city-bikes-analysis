{
 "cells": [
  {
   "cell_type": "code",
   "execution_count": 1,
   "metadata": {
    "collapsed": true
   },
   "outputs": [],
   "source": [
    "import csv\n",
    "from matplotlib import pyplot as plt\n",
    "import numpy as np\n",
    "\n",
    "class Trip:\n",
    "    \n",
    "    def __init__(self, trip_id, duration, distance, idle):\n",
    "        self.id = trip_id\n",
    "        self.duration = duration\n",
    "        self.distance = distance\n",
    "        self.idle = idle\n",
    "        \n",
    "    @property\n",
    "    def aver_velocity(self):\n",
    "        return 0.0 if self.duration == 0 else 3600.0 * self.distance / self.duration\n",
    "    \n",
    "    @property\n",
    "    def pure_velocity(self):\n",
    "        return 0.0 if self.duration == 0 or self.duration == self.idle \\\n",
    "                   else 3600.0 * self.distance / (self.duration - self.idle)"
   ]
  },
  {
   "cell_type": "code",
   "execution_count": 2,
   "metadata": {
    "collapsed": true
   },
   "outputs": [],
   "source": [
    "trips = []\n",
    "\n",
    "with open('sample_all.txt', 'r') as csvfile:\n",
    "    trips_reader = csv.reader(csvfile, delimiter=',', quotechar='.')\n",
    "    idx = 0\n",
    "    for data in trips_reader:\n",
    "        idx += 1\n",
    "        trips.append(Trip(idx, float(data[1]), float(data[2]), float(data[4])))"
   ]
  },
  {
   "cell_type": "code",
   "execution_count": 3,
   "metadata": {},
   "outputs": [
    {
     "data": {
      "text/plain": [
       "34969"
      ]
     },
     "execution_count": 3,
     "metadata": {},
     "output_type": "execute_result"
    }
   ],
   "source": [
    "len(trips)"
   ]
  },
  {
   "cell_type": "code",
   "execution_count": 4,
   "metadata": {},
   "outputs": [
    {
     "name": "stdout",
     "output_type": "stream",
     "text": [
      "40 635 34294\n"
     ]
    }
   ],
   "source": [
    "trips_real = []\n",
    "dur_zero, dist_zero = 0, 0\n",
    "for trip in trips:\n",
    "    if trip.duration == 0:\n",
    "        dur_zero += 1\n",
    "    elif trip.distance == 0:\n",
    "        dist_zero += 1\n",
    "    else:\n",
    "        trips_real.append(trip)\n",
    "trips_real = np.array(trips_real)\n",
    "print dur_zero, dist_zero, len(trips_real)"
   ]
  },
  {
   "cell_type": "code",
   "execution_count": 5,
   "metadata": {},
   "outputs": [
    {
     "name": "stdout",
     "output_type": "stream",
     "text": [
      "0.0869440385397 0.11744151885 34294\n"
     ]
    },
    {
     "data": {
      "image/png": "[encoded data removed]",
      "text/plain": [
       "<matplotlib.figure.Figure at 0x70e4b38>"
      ]
     },
     "metadata": {},
     "output_type": "display_data"
    }
   ],
   "source": [
    "idles = np.array([1.0 * trip.idle / trip.duration for trip in trips_real])\n",
    "\n",
    "print idles.mean(), idles.std(), len(idles)\n",
    "plt.hist(idles)\n",
    "plt.show()"
   ]
  },
  {
   "cell_type": "code",
   "execution_count": 9,
   "metadata": {},
   "outputs": [
    {
     "name": "stdout",
     "output_type": "stream",
     "text": [
      "9.51464594678\n"
     ]
    },
    {
     "data": {
      "image/png": "[encoded data removed]",
      "text/plain": [
       "<matplotlib.figure.Figure at 0xcd12898>"
      ]
     },
     "metadata": {},
     "output_type": "display_data"
    },
    {
     "name": "stdout",
     "output_type": "stream",
     "text": [
      "10.3448619969\n"
     ]
    },
    {
     "data": {
      "image/png": "[encoded data removed]",
      "text/plain": [
       "<matplotlib.figure.Figure at 0xcd34048>"
      ]
     },
     "metadata": {},
     "output_type": "display_data"
    }
   ],
   "source": [
    "vs = np.array([trip.aver_velocity for trip in trips_real])\n",
    "vs_pure = np.array([trip.pure_velocity for trip in trips_real])\n",
    "\n",
    "print vs.mean()\n",
    "plt.hist(vs, bins=500)\n",
    "plt.show()\n",
    "print vs_pure.mean()\n",
    "plt.hist(vs_pure, bins=500)\n",
    "plt.show()"
   ]
  },
  {
   "cell_type": "code",
   "execution_count": 10,
   "metadata": {},
   "outputs": [
    {
     "name": "stdout",
     "output_type": "stream",
     "text": [
      "3961\n"
     ]
    }
   ],
   "source": [
    "low_speed_trips = [trip for trip in trips_real if trip.pure_velocity < 5]\n",
    "print len(low_speed_trips)\n",
    "ids = [trip.id for trip in low_speed_trips]\n",
    "#print ids"
   ]
  },
  {
   "cell_type": "code",
   "execution_count": null,
   "metadata": {
    "collapsed": true
   },
   "outputs": [],
   "source": [
    "def tracks_to_file(source_file, target_file, indices):\n",
    "    f1 = open(source_file, 'r')\n",
    "    f2 = open(target_file, 'w')\n",
    "    f2.write(\"<?xml version=\\\"1.0\\\" encoding=\\\"UTF-8\\\"?>\\n\")\n",
    "    f2.write(\"<gpx version=\\\"1.0\\\" creator=\\\"ExpertGPS 1.1 - http://www.topografix.com\\\" \" + \\\n",
    "             \"xmlns:xsi=\\\"http://www.w3.org/2001/XMLSchema-instance\\\" \" + \\\n",
    "             \"xmlns=\\\"http://www.topografix.com/GPX/1/0\\\" \" + \\\n",
    "             \"xsi:schemaLocation=\\\"http://www.topografix.com/GPX/1/0 \" + \\\n",
    "             \"http://www.topografix.com/GPX/1/0/gpx.xsd\\\">\\n\")\n",
    "    #\n",
    "    track_idx = 0\n",
    "    for line in f1:\n",
    "        if line.strip() == \"<trk>\":\n",
    "            track_idx += 1\n",
    "        if track_idx in indices:\n",
    "            f2.write(line)\n",
    "    #\n",
    "    f1.close()\n",
    "    f2.write(\"</gpx>\")\n",
    "    f2.close()\n",
    "\n",
    "tracks_to_file('wavelo_june_routes_1.gpx', 'wavelo_low_speed.gpx', ids)"
   ]
  },
  {
   "cell_type": "code",
   "execution_count": 11,
   "metadata": {},
   "outputs": [
    {
     "data": {
      "image/png": "[encoded data removed]",
      "text/plain": [
       "<matplotlib.figure.Figure at 0xcdfb748>"
      ]
     },
     "metadata": {},
     "output_type": "display_data"
    }
   ],
   "source": [
    "plt.hist([trip.pure_velocity for trip in low_speed_trips], bins=100)\n",
    "plt.show()"
   ]
  },
  {
   "cell_type": "code",
   "execution_count": 12,
   "metadata": {},
   "outputs": [
    {
     "data": {
      "image/png": "[encoded data removed]",
      "text/plain": [
       "<matplotlib.figure.Figure at 0xb262400>"
      ]
     },
     "metadata": {},
     "output_type": "display_data"
    }
   ],
   "source": [
    "idles = [trip.idle for trip in low_speed_trips]\n",
    "ds = [trip.distance for trip in low_speed_trips]\n",
    "ts = [trip.duration for trip in low_speed_trips]\n",
    "vs = [trip.aver_velocity for trip in low_speed_trips]\n",
    "\n",
    "plt.scatter(vs, ts)\n",
    "plt.show()"
   ]
  },
  {
   "cell_type": "code",
   "execution_count": null,
   "metadata": {
    "collapsed": true
   },
   "outputs": [],
   "source": []
  }
 ],
 "metadata": {
  "kernelspec": {
   "display_name": "Python 2",
   "language": "python",
   "name": "python2"
  },
  "language_info": {
   "codemirror_mode": {
    "name": "ipython",
    "version": 2
   },
   "file_extension": ".py",
   "mimetype": "text/x-python",
   "name": "python",
   "nbconvert_exporter": "python",
   "pygments_lexer": "ipython2",
   "version": "2.7.14"
  }
 },
 "nbformat": 4,
 "nbformat_minor": 2
}
